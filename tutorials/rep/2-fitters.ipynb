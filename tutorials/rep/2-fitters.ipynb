{
 "cells": [
  {
   "cell_type": "markdown",
   "metadata": {},
   "source": [
    "# Repetition Code Decoder"
   ]
  },
  {
   "cell_type": "code",
   "execution_count": 1,
   "metadata": {},
   "outputs": [],
   "source": [
    "%load_ext autoreload\n",
    "%autoreload 2"
   ]
  },
  {
   "cell_type": "code",
   "execution_count": 5,
   "metadata": {},
   "outputs": [
    {
     "data": {
      "image/png": "[encoded data removed]",
      "text/plain": [
       "<IPython.core.display.Image object>"
      ]
     },
     "metadata": {},
     "output_type": "display_data"
    }
   ],
   "source": [
    "import sys\n",
    "sys.path.insert(0, \"../../\")\n",
    "from topological_codes import RepetitionGraphDecoder\n",
    "decoder = RepetitionGraphDecoder({\"d\":5,\"T\":1})\n",
    "G = decoder.S['Z']\n",
    "decoder.draw(G)"
   ]
  },
  {
   "cell_type": "code",
   "execution_count": null,
   "metadata": {},
   "outputs": [],
   "source": [
    "all_syndromes = {\"Z\": [(0,0,.5),(0,0,1.5),(0,0,3.5)]}\n",
    "matches = {}\n",
    "\n",
    "for syndrome_key, syndromes in all_syndromes.items():\n",
    "    print(f\"{syndrome_key} Syndrome Graph to correct {syndrome_key} Flips\")\n",
    "    error_graph = decoder._make_error_graph(syndromes,syndrome_key)\n",
    "    print(\"Error Graph\")\n",
    "    decoder.draw(error_graph)\n",
    "    matches[syndrome_key] = decoder._run_mwpm(error_graph)\n",
    "    matched_graph = decoder._run_mwpm_graph(error_graph)\n",
    "    print(\"Matched Graph\")\n",
    "    decoder.draw(matched_graph)\n",
    "    print(f\"Matches: {matches[syndrome_key]}\")\n",
    "    print(\"\\n===\\n\")"
   ]
  },
  {
   "cell_type": "markdown",
   "metadata": {},
   "source": [
    "#### Degeneracy Weighting \n",
    "\n",
    "When there are multiple shortest paths between syndrome nodes on a syndrome graph, the associated error chains are thought to be more probable. This degeneracy in some error chain `e` is denoted as `Ω(e)`, which in turn affects the probability of the entire error set `E` in which `e` is included. \n",
    "\n",
    "<img src=\"https://latex.codecogs.com/gif.latex?p(E) \\propto (1-p)^n \\prod_{e \\in \\text{chain}(E)} \\Omega(e)\\left(\\frac{p}{1-p}\\right)^{|e|}\" /> \n",
    "<img src=\"https://latex.codecogs.com/gif.latex?p(E) \\propto - \\sum_{e \\in \\text{chain}(E)}\\left\\{ |e| - \\Omega(e)\\left(\\frac{p}{1-p}\\right)^{|e|}\\right\\}\" /> \n",
    "\n",
    "The aformentioned `error_graph` now edge weights (formerly `-|e|`) increased by degeneracy counts as shown above. A more detailed derivation can be found in reference [1](https://arxiv.org/abs/1709.02154).\n",
    "\n",
    "As shown below, an `error_graph` under degeneracy considerations has adjusted edge weights.\n"
   ]
  },
  {
   "cell_type": "code",
   "execution_count": null,
   "metadata": {},
   "outputs": [],
   "source": [
    "decoder = RepetitionGraphDecoder({\"d\":5,\"T\":3})\n",
    "p = 0.1\n",
    "    \n",
    "all_syndromes = {\"Z\": [(0,0,0.5),(0,0,2.5),(1,0,1.5),(1,0,3.5)]}\n",
    "matches = {}\n",
    "\n",
    "for syndrome_key, syndromes in all_syndromes.items():\n",
    "    print(f\"{syndrome_key} Syndrome Graph to correct {syndrome_key} Flips\")\n",
    "    error_graph = decoder._make_error_graph(syndromes,syndrome_key, err_prob=p)\n",
    "    print(\"Error Graph\")\n",
    "    decoder.draw(error_graph)\n",
    "    matches[syndrome_key] = decoder._run_mwpm(error_graph, floats=True)\n",
    "    matched_graph = decoder._run_mwpm_graph(error_graph, floats=True)\n",
    "    print(\"Matched Graph\")\n",
    "    decoder.draw(matched_graph)\n",
    "    print(f\"Matches: {matches[syndrome_key]}\")\n",
    "    print(\"\\n===\\n\")"
   ]
  },
  {
   "cell_type": "markdown",
   "metadata": {},
   "source": [
    "### Multi-step Surface Code Decoder, T > 1\n",
    "\n",
    "In the case of `T > 1`, the syndrome graph will be propelled into three dimensions, including time. Edges between syndrome nodes at the same time index in this `3D` syndrome graph still correspond to data qubit errors, while edges between the **same** syndrome node at adjecent time indices (these are the only edges that exist between syndrome nodes of different time indices [[2]](http://arxiv.org/abs/0905.0531v1)) correspond to ancilla qubit errors, also known as syndrome measurement errors. \n",
    "\n",
    "Consider a `Z` syndrome detected at syndrome node `(0,0.5,0.5)` and another `Z` syndrome detected at node `(1,0.5,0.5)`. The most probable propsective error would be that the ancilla qubit measuring the syndrome node at location `(0.5,0.5)` incurred a measurement error at time `t = 0`. Then, at time `t=1`, that same ancilla qubit detected no error in nearby data qubits and measured another `Z` syndrome simply because its state changed between time step `t = 0` and time step `t = 1`. This is reminiscent of the bitwise OR notation found in repitition code quantum circuits.\n",
    "\n",
    "The associated syndrome graphs of `RepetitionGraphDecoder(d=5,T=3)` can be beautifully visualized using the `RepetitionGraphDecoder.graph_2D` and `RepetitionGraphDecoder.graph_3D` functions shown below. It should be noted that outside of a `jupyter` notebook **these 3D graphs are rotatable**. "
   ]
  },
  {
   "cell_type": "markdown",
   "metadata": {},
   "source": [
    "You can see an example schematic from the following paper:\n",
    "\n",
    "<p align=\"center\">\n",
    "<img width=\"700\" alt=\"Screen Shot 2020-07-01 at 3 54 32 PM\" src=\"https://user-images.githubusercontent.com/293681/86285739-286d1900-bbb3-11ea-957e-c38ad1563498.png\">\n",
    "</p>\n",
    "\n",
    "* Wang, D. S., Fowler, A. G., Stephens, A. M. & Hollenberg, L. C. L. Threshold error rates for the toric and surface codes. arXiv:0905.0531 [quant-ph] (2009).\n"
   ]
  },
  {
   "cell_type": "code",
   "execution_count": null,
   "metadata": {},
   "outputs": [],
   "source": [
    "decoder = RepetitionGraphDecoder({\"d\":5,\"T\":3})\n",
    "G = decoder.S['Z']\n",
    "decoder.draw(G)"
   ]
  },
  {
   "cell_type": "markdown",
   "metadata": {},
   "source": [
    "The syndrome nodes in pink, orange, and yellow represent **real** syndrome nodes from times `t = 0,1,2` respectively, as denoted by their labels. The syndrome nodes in dark blue denote **virtual** syndrome nodes, as denoted by their `t = -1` time index. Below, a set of example syndrome node measurements are used to find the most probable error set on a Surface Code with `d = 5` and `T = 3`."
   ]
  },
  {
   "cell_type": "code",
   "execution_count": null,
   "metadata": {},
   "outputs": [],
   "source": [
    "p = None\n",
    "all_syndromes = {\"Z\": [(0,0,.5),(0,0,2.5), (1,0,1.5),(2,0,1.5), (2,0,2.5), (2,0,3.5)],}\n",
    "matches = {}\n",
    "\n",
    "for syndrome_key, syndromes in all_syndromes.items():\n",
    "    print(f\"{syndrome_key} Syndrome Graph to correct {syndrome_key} Flips\")\n",
    "    error_graph = decoder._make_error_graph(syndromes,syndrome_key, err_prob=p)\n",
    "    print(\"Error Graph\")\n",
    "    decoder.draw(error_graph)\n",
    "    matches[syndrome_key] = decoder._run_mwpm(error_graph)\n",
    "    matched_graph = decoder._run_mwpm_graph(error_graph)\n",
    "    print(\"Matched Graph\")\n",
    "    decoder.draw(matched_graph)\n",
    "    print(f\"Matches: {matches[syndrome_key]}\")\n",
    "    print(\"\\n===\\n\")\n"
   ]
  },
  {
   "cell_type": "markdown",
   "metadata": {},
   "source": [
    "Here is another longer example with `d = 9` and `T = 3` with more colorful graphs detailing each step of the decoding process. This is an optional example for the curious reader. "
   ]
  },
  {
   "cell_type": "code",
   "execution_count": null,
   "metadata": {},
   "outputs": [],
   "source": [
    "decoder = RepetitionGraphDecoder({\"d\":9,\"T\":3})\n",
    "G = decoder.S['Z']\n",
    "decoder.draw(G)"
   ]
  },
  {
   "cell_type": "markdown",
   "metadata": {},
   "source": [
    "Thanks for reading!!"
   ]
  }
 ],
 "metadata": {
  "kernelspec": {
   "display_name": "Python 3",
   "language": "python",
   "name": "python3"
  },
  "language_info": {
   "codemirror_mode": {
    "name": "ipython",
    "version": 3
   },
   "file_extension": ".py",
   "mimetype": "text/x-python",
   "name": "python",
   "nbconvert_exporter": "python",
   "pygments_lexer": "ipython3",
   "version": "3.9.1"
  }
 },
 "nbformat": 4,
 "nbformat_minor": 4
}
