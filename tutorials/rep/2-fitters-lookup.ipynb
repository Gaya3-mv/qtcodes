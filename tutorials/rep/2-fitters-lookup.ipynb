{
 "cells": [
  {
   "cell_type": "code",
   "execution_count": 1,
   "id": "chinese-resolution",
   "metadata": {},
   "outputs": [],
   "source": [
    "%load_ext autoreload\n",
    "%autoreload 2"
   ]
  },
  {
   "cell_type": "code",
   "execution_count": 2,
   "id": "annual-width",
   "metadata": {},
   "outputs": [],
   "source": [
    "import sys\n",
    "sys.path.insert(0, \"../../\")\n",
    "from topological_codes import RotatedDecoder\n",
    "from topological_codes import RepetitionQubit"
   ]
  },
  {
   "cell_type": "code",
   "execution_count": 3,
   "id": "injured-capital",
   "metadata": {},
   "outputs": [],
   "source": [
    "from qiskit.providers.aer.noise import NoiseModel\n",
    "from qiskit.providers.aer.noise.errors import pauli_error, depolarizing_error\n",
    "from qiskit import execute, Aer\n",
    "\n",
    "def get_noise_model(p_err):\n",
    "\n",
    "    error_gate1 = pauli_error([(\"X\", p_err / 2), (\"Z\", p_err / 2), (\"I\", 1 - p_err)])\n",
    "\n",
    "    noise_model = NoiseModel()\n",
    "    noise_model.add_all_qubit_quantum_error(error_gate1, \"id\")\n",
    "    return noise_model"
   ]
  },
  {
   "cell_type": "code",
   "execution_count": 4,
   "id": "lucky-document",
   "metadata": {},
   "outputs": [],
   "source": [
    "p_err = 0.10\n",
    "shots = 10000\n",
    "def get_results(circ):\n",
    "    results = execute(circ, \n",
    "                      Aer.get_backend(\"aer_simulator\"), \n",
    "                      noise_model=get_noise_model(p_err),\n",
    "                      shots=shots,\n",
    "                     ).result().get_counts()\n",
    "    return results"
   ]
  },
  {
   "cell_type": "code",
   "execution_count": 5,
   "id": "gross-seller",
   "metadata": {},
   "outputs": [],
   "source": [
    "d = 3\n",
    "T = 1\n",
    "\n",
    "decoder = RotatedDecoder({\"d\":d,\"T\":T})"
   ]
  },
  {
   "cell_type": "code",
   "execution_count": 6,
   "id": "completed-reflection",
   "metadata": {},
   "outputs": [],
   "source": [
    "qubit = RepetitionQubit({'d':d})\n",
    "qubit.reset_z()\n",
    "qubit.stabilize()\n",
    "qubit.id_data()\n",
    "qubit.stabilize()\n",
    "qubit.readout_z()\n",
    "decoder.set_look_up_table(\"Z\",0,get_results(qubit.circ))\n",
    "\n",
    "qubit = RepetitionQubit({'d':d})\n",
    "qubit.reset_z()\n",
    "qubit.x()\n",
    "qubit.stabilize()\n",
    "qubit.id_data()\n",
    "qubit.stabilize()\n",
    "qubit.readout_z()\n",
    "decoder.set_look_up_table(\"Z\",1,get_results(qubit.circ))"
   ]
  },
  {
   "cell_type": "code",
   "execution_count": 7,
   "id": "prepared-raise",
   "metadata": {},
   "outputs": [
    {
     "data": {
      "text/plain": [
       "{'X': {0: {}, 1: {}},\n",
       " 'Z': {0: {'1 10 00': 21,\n",
       "   '1 11 00': 19,\n",
       "   '0 10 00': 457,\n",
       "   '0 11 00': 451,\n",
       "   '0 01 00': 31,\n",
       "   '1 01 00': 432,\n",
       "   '0 00 00': 8589},\n",
       "  1: {'1 01 00': 29,\n",
       "   '1 10 00': 436,\n",
       "   '0 01 00': 478,\n",
       "   '1 11 00': 440,\n",
       "   '0 11 00': 33,\n",
       "   '0 10 00': 19,\n",
       "   '1 00 00': 8565}}}"
      ]
     },
     "execution_count": 7,
     "metadata": {},
     "output_type": "execute_result"
    }
   ],
   "source": [
    "decoder.look_up_table"
   ]
  },
  {
   "cell_type": "code",
   "execution_count": 8,
   "id": "determined-wheel",
   "metadata": {},
   "outputs": [
    {
     "name": "stdout",
     "output_type": "stream",
     "text": [
      "[0.9370932754880694, 0.06290672451193058]\n"
     ]
    },
    {
     "data": {
      "text/plain": [
       "0"
      ]
     },
     "execution_count": 8,
     "metadata": {},
     "output_type": "execute_result"
    }
   ],
   "source": [
    "readout_string = \"1 01 00\"\n",
    "readout_type = \"Z\"\n",
    "print(decoder._run_look_up(readout_string, readout_type))\n",
    "decoder.correct_readout_look_up_table(readout_string, readout_type)"
   ]
  }
 ],
 "metadata": {
  "kernelspec": {
   "display_name": "Python 3",
   "language": "python",
   "name": "python3"
  },
  "language_info": {
   "codemirror_mode": {
    "name": "ipython",
    "version": 3
   },
   "file_extension": ".py",
   "mimetype": "text/x-python",
   "name": "python",
   "nbconvert_exporter": "python",
   "pygments_lexer": "ipython3",
   "version": "3.9.1"
  }
 },
 "nbformat": 4,
 "nbformat_minor": 5
}
