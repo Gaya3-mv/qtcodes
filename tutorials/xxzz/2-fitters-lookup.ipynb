{
 "cells": [
  {
   "cell_type": "code",
   "execution_count": 23,
   "id": "supreme-integral",
   "metadata": {},
   "outputs": [
    {
     "name": "stdout",
     "output_type": "stream",
     "text": [
      "The autoreload extension is already loaded. To reload it, use:\n",
      "  %reload_ext autoreload\n"
     ]
    }
   ],
   "source": [
    "%load_ext autoreload\n",
    "%autoreload 2"
   ]
  },
  {
   "cell_type": "code",
   "execution_count": 24,
   "id": "curious-compact",
   "metadata": {},
   "outputs": [],
   "source": [
    "import sys\n",
    "sys.path.insert(0, \"../../\")\n",
    "from topological_codes import RotatedDecoder\n",
    "from topological_codes import XXZZQubit"
   ]
  },
  {
   "cell_type": "code",
   "execution_count": 25,
   "id": "encouraging-minimum",
   "metadata": {},
   "outputs": [],
   "source": [
    "from qiskit.providers.aer.noise import NoiseModel\n",
    "from qiskit.providers.aer.noise.errors import pauli_error, depolarizing_error\n",
    "from qiskit import execute, Aer\n",
    "\n",
    "def get_noise_model(p_err):\n",
    "\n",
    "    error_gate1 = pauli_error([(\"X\", p_err / 2), (\"Z\", p_err / 2), (\"I\", 1 - p_err)])\n",
    "\n",
    "    noise_model = NoiseModel()\n",
    "    noise_model.add_all_qubit_quantum_error(error_gate1, \"id\")\n",
    "    return noise_model"
   ]
  },
  {
   "cell_type": "code",
   "execution_count": 26,
   "id": "qualified-moral",
   "metadata": {},
   "outputs": [],
   "source": [
    "p_err = 0.10\n",
    "shots = 10000\n",
    "def get_results(circ):\n",
    "    results = execute(circ, \n",
    "                      Aer.get_backend(\"aer_simulator\"), \n",
    "                      noise_model=get_noise_model(p_err),\n",
    "                      shots=shots,\n",
    "                     ).result().get_counts()\n",
    "    return results"
   ]
  },
  {
   "cell_type": "code",
   "execution_count": 27,
   "id": "specified-subdivision",
   "metadata": {},
   "outputs": [],
   "source": [
    "d = 3\n",
    "T = 1\n",
    "\n",
    "decoder = RotatedDecoder({\"d\":d,\"T\":T})"
   ]
  },
  {
   "cell_type": "code",
   "execution_count": 29,
   "id": "documented-spyware",
   "metadata": {},
   "outputs": [],
   "source": [
    "qubit = XXZZQubit({'d':d})\n",
    "qubit.logical_plus_z_reset()\n",
    "qubit.stabilize()\n",
    "qubit.identity_data()\n",
    "qubit.stabilize()\n",
    "qubit.readout_z()\n",
    "decoder.set_look_up_table(\"Z\",0,get_results(qubit.circ))\n",
    "\n",
    "qubit = XXZZQubit({'d':d})\n",
    "qubit.logical_plus_z_reset()\n",
    "qubit.logical_x()\n",
    "qubit.stabilize()\n",
    "qubit.identity_data()\n",
    "qubit.stabilize()\n",
    "qubit.readout_z()\n",
    "decoder.set_look_up_table(\"Z\",1,get_results(qubit.circ))"
   ]
  },
  {
   "cell_type": "code",
   "execution_count": 30,
   "id": "entitled-question",
   "metadata": {},
   "outputs": [
    {
     "data": {
      "text/plain": [
       "1"
      ]
     },
     "execution_count": 30,
     "metadata": {},
     "output_type": "execute_result"
    }
   ],
   "source": [
    "readout_string = \"1 00000000 00000000\"\n",
    "readout_type = \"Z\"\n",
    "decoder.correct_readout_look_up_table(readout_string, readout_type)"
   ]
  }
 ],
 "metadata": {
  "kernelspec": {
   "display_name": "Python 3",
   "language": "python",
   "name": "python3"
  },
  "language_info": {
   "codemirror_mode": {
    "name": "ipython",
    "version": 3
   },
   "file_extension": ".py",
   "mimetype": "text/x-python",
   "name": "python",
   "nbconvert_exporter": "python",
   "pygments_lexer": "ipython3",
   "version": "3.9.1"
  }
 },
 "nbformat": 4,
 "nbformat_minor": 5
}
