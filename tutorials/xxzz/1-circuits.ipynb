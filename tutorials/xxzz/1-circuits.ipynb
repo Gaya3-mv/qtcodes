{
 "cells": [
  {
   "cell_type": "markdown",
   "metadata": {},
   "source": [
    "# Surface Code Encoding"
   ]
  },
  {
   "cell_type": "code",
   "execution_count": null,
   "metadata": {},
   "outputs": [],
   "source": [
    "%load_ext autoreload\n",
    "%autoreload 2"
   ]
  },
  {
   "cell_type": "code",
   "execution_count": null,
   "metadata": {},
   "outputs": [],
   "source": [
    "from qiskit import QuantumCircuit, execute, QuantumRegister, ClassicalRegister, Aer\n",
    "import matplotlib.pyplot as plt"
   ]
  },
  {
   "cell_type": "markdown",
   "metadata": {},
   "source": [
    "## Stabilizer Eigenstates"
   ]
  },
  {
   "cell_type": "markdown",
   "metadata": {},
   "source": [
    "Following Fowler et. al [1], we see that the two-qubit operators $Z_a Z_b$ commute with $X_a X_b$. The eigenstates of these *stabilizers* are the Bell states (**Table II**):\n",
    "\n",
    "<p align=\"center\">\n",
    "<img width=\"245\" alt=\"stabilizer-eigenstates\" src=\"https://user-images.githubusercontent.com/293681/88832601-0f9a5800-d19f-11ea-88fe-a8191e21a67e.png\">\n",
    "</p>\n",
    "\n",
    "[1] Fowler, A. G., Mariantoni, M., Martinis, J. M. & Cleland, A. N. Surface codes: Towards practical large-scale quantum computation. Phys. Rev. A 86, 032324 (2012).\n"
   ]
  },
  {
   "cell_type": "code",
   "execution_count": null,
   "metadata": {
    "scrolled": true
   },
   "outputs": [],
   "source": [
    "qr = QuantumRegister(2, name='q')\n",
    "an = QuantumRegister(1, name='ancilla')\n",
    "\n",
    "rounds = 2\n",
    "measurements = [ClassicalRegister(2, name=\"c{}\".format(i+1)) for i in range(rounds)]\n",
    "\n",
    "circ = QuantumCircuit(qr, an, *measurements)\n",
    "\n",
    "def ZZ_meas(round):\n",
    "    circ.reset(an)\n",
    "    circ.cx(0, 2)\n",
    "    circ.cx(1, 2)\n",
    "    circ.measure(an, measurements[round][1])\n",
    "    circ.barrier()\n",
    "\n",
    "def XX_meas(round):\n",
    "    circ.reset(an)\n",
    "    circ.h(an)\n",
    "    circ.cx(an, 0)\n",
    "    circ.cx(an, 1)\n",
    "    circ.h(an)\n",
    "    circ.measure(an, measurements[round][0])\n",
    "    circ.barrier()\n",
    "\n",
    "for i in range(rounds):\n",
    "    ZZ_meas(i)\n",
    "    XX_meas(i)\n",
    "\n",
    "circ.draw(output='mpl', fold=35)"
   ]
  },
  {
   "cell_type": "markdown",
   "metadata": {},
   "source": [
    "Running this circuit on the four Bell states, and the stabilizer is stable:"
   ]
  },
  {
   "cell_type": "code",
   "execution_count": null,
   "metadata": {},
   "outputs": [],
   "source": [
    "import itertools\n",
    "for q0_gate, q1_gate in itertools.product([\"i\", \"x\"], repeat=2):  \n",
    "    test_circ = QuantumCircuit(qr, an, *measurements)\n",
    "    \n",
    "    # Set up our Bell \"generator\" states\n",
    "    getattr(test_circ, q0_gate)(0) #i.e. test_circ.i(0) or test_circ.x(0)\n",
    "    getattr(test_circ, q1_gate)(1) #i.e. test_circ.i(1) or test_circ.x(1)\n",
    "    \n",
    "    # Create Bell state\n",
    "    test_circ.h(0)\n",
    "    test_circ.cx(0, 1)\n",
    "    test_circ.barrier()\n",
    "\n",
    "    test_circ = test_circ.combine(circ)\n",
    "    print(\"Bell state %s%s:\" % (q0_gate, q1_gate), execute(test_circ, Aer.get_backend('qasm_simulator'), shots=1).result().get_counts())\n",
    "# Final Circuit Example\n",
    "test_circ.draw(output='mpl', fold=35)"
   ]
  },
  {
   "cell_type": "markdown",
   "metadata": {},
   "source": [
    "Even though our projective measurement is only on the ancilla qubit, all of our qubits are entangled through the stabilizer measurement process. Thus, the ancilla measurement *does* induce back-action on our actual qubit. For example, let's run the circuit on the $|00\\rangle$ state, which is **not** a mutual eigenstate of the stabilizers:"
   ]
  },
  {
   "cell_type": "code",
   "execution_count": null,
   "metadata": {},
   "outputs": [],
   "source": [
    "execute(circ, Aer.get_backend('qasm_simulator')).result().get_counts()"
   ]
  },
  {
   "cell_type": "markdown",
   "metadata": {},
   "source": [
    "Roughly half of the time we get `00 00`, and the other half `01 01`. If you go through the circuit, it's straightforward to verify that the first $XX$ measurement will project $|00\\rangle$ into either the $|00\\rangle$ + $|11\\rangle$ or $|00\\rangle$ - $|11\\rangle$ Bell state (and their respective stabilizer eigenvalues).\n",
    "\n",
    "In the absence of errors, subsequent measurements of the eigenvalue after the first stabilizer measurement will remain the same! This is known as the *quiescent state* of the code, and is an important part of the initialization process for surface codes."
   ]
  },
  {
   "cell_type": "markdown",
   "metadata": {},
   "source": [
    "## Toric Code to Surface Code\n",
    "Korotkov’s law:  “In quantum mechanics you don’t see what you get, you get what you see.”\n",
    "\n",
    "See James Wooten's [Decodoku toric code posts](http://decodoku.blogspot.com/2016/03/6-toric-code.html) for a great introduction to the intuition.\n",
    "\n",
    "<p align=\"center\">\n",
    "<img width=\"800\" alt=\"toric-code\" src=\"https://user-images.githubusercontent.com/293681/98292863-6c19ca00-1f7b-11eb-85d5-c52ea6518e50.png\">\n",
    "</p>"
   ]
  },
  {
   "cell_type": "markdown",
   "metadata": {},
   "source": [
    "## d=3 Surface Code with 17 Qubits"
   ]
  },
  {
   "cell_type": "markdown",
   "metadata": {},
   "source": [
    "Following [2], we can generalize this into a d=3 rotated surface code with 9 data qubits and 8 ancillas. Please see the reference for details about how the circuit is constructed, including a subtlety with the direction of stabilzer measurements in each cell.\n",
    "\n",
    "<p align=\"center\">\n",
    "<img width=\"800\" alt=\"syndrome-measurement\" src=\"https://user-images.githubusercontent.com/293681/98292541-dc741b80-1f7a-11eb-9e37-19333f821ee0.png\">\n",
    "<img width=\"400\" alt=\"d-3-code-lattice\" src=\"https://user-images.githubusercontent.com/293681/98292642-04637f00-1f7b-11eb-9924-8a02f512d65c.jpeg\">\n",
    "</p>\n",
    "\n",
    "[2] Tomita, Y. & Svore, K. M. Low-distance surface codes under realistic quantum noise. Phys. Rev. A 90, 062320 (2014)."
   ]
  },
  {
   "cell_type": "code",
   "execution_count": null,
   "metadata": {},
   "outputs": [],
   "source": [
    "# [circ.x(i) for i in data]\n",
    "def stabilize(circ, i):\n",
    "    # Top left\n",
    "    circ.h(mx[0])\n",
    "    circ.cx(mx[0], data[1])\n",
    "    circ.cx(mx[0], data[0])\n",
    "    circ.h(mx[0])\n",
    "    circ.cx(data[1], mz[0])\n",
    "    circ.cx(data[4], mz[0])\n",
    "    circ.cx(data[3], mz[0])\n",
    "    circ.cx(data[0], mz[0])\n",
    "    circ.barrier()\n",
    "    \n",
    "    # Top right\n",
    "    circ.h(mx[1])\n",
    "    circ.cx(mx[1], data[2])\n",
    "    circ.cx(mx[1], data[1])\n",
    "    circ.cx(mx[1], data[5])\n",
    "    circ.cx(mx[1], data[4])\n",
    "    circ.h(mx[1])\n",
    "    circ.cx(data[2],mz[1])\n",
    "    circ.cx(data[5],mz[1])\n",
    "    circ.barrier()\n",
    "    \n",
    "    # Bottom left\n",
    "    circ.cx(data[3], mz[2])\n",
    "    circ.cx(data[6], mz[2])\n",
    "    circ.h(mx[2])\n",
    "    circ.cx(mx[2], data[4])\n",
    "    circ.cx(mx[2], data[3])\n",
    "    circ.cx(mx[2], data[7])\n",
    "    circ.cx(mx[2], data[6])\n",
    "    circ.h(mx[2])\n",
    "    circ.barrier()\n",
    "\n",
    "    # Bottom right\n",
    "    circ.h(mx[3])\n",
    "    circ.cx(mx[3], data[8])\n",
    "    circ.cx(mx[3], data[7])\n",
    "    circ.h(mx[3])\n",
    "    circ.cx(data[5], mz[3])\n",
    "    circ.cx(data[8], mz[3])\n",
    "    circ.cx(data[4], mz[3])\n",
    "    circ.cx(data[7], mz[3])\n",
    "    circ.barrier()\n",
    "    \n",
    "    circ.measure(mz, measurements[i][0:4])\n",
    "    circ.measure(mx, measurements[i][4:8])\n",
    "    circ.reset(mz)\n",
    "    circ.reset(mx)\n",
    "    circ.barrier()"
   ]
  },
  {
   "cell_type": "code",
   "execution_count": null,
   "metadata": {},
   "outputs": [],
   "source": [
    "data = QuantumRegister(9, name='data')\n",
    "mx = QuantumRegister(4, name='mx')\n",
    "mz = QuantumRegister(4, name='mz')\n",
    "\n",
    "rounds=1  # The actual number of rounds will always be more than 1, since the first round creates the quiescent state\n",
    "measurements = [ClassicalRegister(8, name=\"c{}\".format(i+1)) for i in range(rounds + 1)]\n",
    "logical = QuantumRegister(1, name=\"logical\")\n",
    "\n",
    "base_circ = QuantumCircuit(data, mz, mx, *measurements, logical)\n",
    "\n",
    "def get_stabilized_circ(base_circuit, rounds):\n",
    "    circ = base_circuit.copy()\n",
    "    for i in range(rounds + 1):\n",
    "        stabilize(circ, i)\n",
    "    return circ"
   ]
  },
  {
   "cell_type": "code",
   "execution_count": null,
   "metadata": {},
   "outputs": [],
   "source": [
    "circ = get_stabilized_circ(base_circ, rounds)\n",
    "circ.draw(output='mpl', fold=150)"
   ]
  },
  {
   "cell_type": "markdown",
   "metadata": {},
   "source": [
    "### \"Circuit generator\" from our library\n",
    "\n",
    "Works for arbitrary d (still odd, of course)! We basically iterate over each \"syndrome face\" and run the X or Z entanglement. Take a look at the code for more details, including the messy calculations for the lattice locations."
   ]
  },
  {
   "cell_type": "code",
   "execution_count": null,
   "metadata": {},
   "outputs": [],
   "source": [
    "%load_ext autoreload\n",
    "%autoreload 2"
   ]
  },
  {
   "cell_type": "code",
   "execution_count": null,
   "metadata": {},
   "outputs": [],
   "source": [
    "import sys\n",
    "sys.path.insert(0, \"../\")\n",
    "sys.path.insert(0, \"../../\")\n",
    "from topological_codes import XXZZQubit"
   ]
  },
  {
   "cell_type": "code",
   "execution_count": null,
   "metadata": {},
   "outputs": [],
   "source": [
    "qubit = XXZZQubit({'d':3})\n",
    "# print(qubit)\n",
    "qubit.stabilize()\n",
    "qubit.stabilize()\n",
    "qubit.draw(output='mpl', fold=50)"
   ]
  },
  {
   "cell_type": "markdown",
   "metadata": {},
   "source": [
    "Just like before, the $XXXX$ measurements will project our starting state into a quiescent state. Similarly, the $ZZZZ$ measurement doesn't do anything here, since both the starting state and the quiescent states are already Z-eigenstates.\n",
    "\n",
    "We make four different $XXXX$ measurements, and each has two eigenvalues, so in this case there are $2^4 = 16$ possible combinations of syndrome measurements.\n",
    "\n",
    "We can run this on the simulator and confirm. We see 3 groups of 8 bits, which are the syndrome measurement rounds. These are stable, and the first 4 bits permute through the 16 possible $XXXX$ syndromes. The output format is:\n",
    "\n",
    "$$\\underbrace{X_3X_2X_1X_0Z_3Z_2Z_1Z_0}_\\text{Round 1} \\quad \\underbrace{X_3X_2X_1X_0Z_3Z_2Z_1Z_0}_\\text{Round 0}$$"
   ]
  },
  {
   "cell_type": "code",
   "execution_count": null,
   "metadata": {},
   "outputs": [],
   "source": [
    "execute(qubit.circ, Aer.get_backend('qasm_simulator')).result().get_counts()"
   ]
  },
  {
   "cell_type": "markdown",
   "metadata": {},
   "source": [
    "From Decodoku posts by James Wooten:\n",
    "\n",
    "http://decodoku.blogspot.com/2016/03/6-toric-code-part-2.html\n",
    "\n",
    "<p align=\"center\">\n",
    "</p>\n",
    "\n",
    "In our circuit, the Z-operator can be picked as any row of data qubits. We choose the top row:"
   ]
  },
  {
   "cell_type": "code",
   "execution_count": null,
   "metadata": {},
   "outputs": [],
   "source": [
    "qubit.readout_z()\n",
    "qubit.draw(output='mpl', fold=150)"
   ]
  },
  {
   "cell_type": "markdown",
   "metadata": {},
   "source": [
    "With the readout, the output format is:\n",
    "$$\\underbrace{L}_\\text{Z Readout}~\\underbrace{X_3X_2X_1X_0Z_3Z_2Z_1Z_0}_\\text{Round 1} \\quad \\underbrace{X_3X_2X_1X_0Z_3Z_2Z_1Z_0}_\\text{Round 0}$$"
   ]
  },
  {
   "cell_type": "code",
   "execution_count": null,
   "metadata": {},
   "outputs": [],
   "source": [
    "execute(qubit.circ, Aer.get_backend('qasm_simulator')).result().get_counts()"
   ]
  },
  {
   "cell_type": "markdown",
   "metadata": {},
   "source": [
    "Applying the X operator, we can get a $|1_L\\rangle$ state:"
   ]
  },
  {
   "cell_type": "code",
   "execution_count": null,
   "metadata": {},
   "outputs": [],
   "source": [
    "qubit = XXZZQubit({'d':3})\n",
    "qubit.stabilize()\n",
    "qubit.stabilize()\n",
    "qubit.logical_x()\n",
    "qubit.stabilize()\n",
    "qubit.readout_z()\n",
    "\n",
    "execute(qubit.circ, Aer.get_backend('qasm_simulator')).result().get_counts()"
   ]
  },
  {
   "cell_type": "markdown",
   "metadata": {
    "slideshow": {
     "slide_type": "slide"
    }
   },
   "source": [
    "If we initialize the circuit with $|+\\rangle$ data qubits, we get a logical $|+\\rangle$ state:"
   ]
  },
  {
   "cell_type": "code",
   "execution_count": null,
   "metadata": {},
   "outputs": [],
   "source": [
    "qubit = XXZZQubit({'d':3})\n",
    "qubit.logical_x_plus_reset()\n",
    "qubit.stabilize()\n",
    "qubit.stabilize()\n",
    "qubit.readout_x()  # Note that we need to readout X now instead of Z\n",
    "qubit.draw(output='mpl', fold=150)"
   ]
  },
  {
   "cell_type": "code",
   "execution_count": null,
   "metadata": {},
   "outputs": [],
   "source": [
    "execute(qubit.circ, Aer.get_backend('qasm_simulator')).result().get_counts()"
   ]
  },
  {
   "cell_type": "markdown",
   "metadata": {},
   "source": [
    "The logical-Z operator will flip this to $|-\\rangle$"
   ]
  },
  {
   "cell_type": "code",
   "execution_count": null,
   "metadata": {},
   "outputs": [],
   "source": [
    "qubit = XXZZQubit({'d':3})\n",
    "qubit.logical_x_plus_reset()\n",
    "qubit.stabilize()\n",
    "\n",
    "qubit.logical_z()\n",
    "\n",
    "qubit.stabilize()\n",
    "qubit.readout_x() \n",
    "\n",
    "execute(qubit.circ, Aer.get_backend('qasm_simulator')).result().get_counts()"
   ]
  },
  {
   "cell_type": "markdown",
   "metadata": {},
   "source": [
    "### For fun, the d=5 surface code"
   ]
  },
  {
   "cell_type": "code",
   "execution_count": null,
   "metadata": {},
   "outputs": [],
   "source": [
    "qubit = XXZZQubit({'d':5})\n",
    "qubit.stabilize()\n",
    "qubit.draw(output='mpl', fold=170)"
   ]
  },
  {
   "cell_type": "markdown",
   "metadata": {},
   "source": [
    "We can test the effect of errors. We insert X-flips at qubits 6 and 9. The output syndrome has the format:\n",
    "\n",
    "$$\\underbrace{L}_\\text{Z Readout}~\\underbrace{X_NX_{N-1}...X_0Z_NZ_{N-1}...Z_0}_\\text{Round 1} \\quad \\underbrace{X_NX_{N-1}...X_0Z_NZ_{N-1}...Z_0}_\\text{Round 0}$$\n",
    "\n",
    "We should get syndrome flips at $Z_0, Z_2, Z_4, Z_5$:\n",
    "<p align=\"center\">\n",
    "<img width=\"500\" alt=\"torus\" src=\"https://user-images.githubusercontent.com/293681/98292078-1a247480-1f7a-11eb-90f3-822a55f1a8ff.jpg\">\n",
    "</p>"
   ]
  },
  {
   "cell_type": "code",
   "execution_count": null,
   "metadata": {},
   "outputs": [],
   "source": [
    "qubit = XXZZQubit({'d':3})\n",
    "qubit.stabilize()\n",
    "qubit.circ.x(3)\n",
    "# qubit.circ.x(6)\n",
    "# qubit.circ.z(0)\n",
    "# qubit.circ.x(9)\n",
    "qubit.stabilize()\n",
    "qubit.readout_z()"
   ]
  },
  {
   "cell_type": "code",
   "execution_count": null,
   "metadata": {},
   "outputs": [],
   "source": [
    "results = execute(qubit.circ, Aer.get_backend('qasm_simulator'), shots=1).result().get_counts()\n",
    "readout_string = list(results.keys())[0]\n",
    "print(readout_string)\n",
    "qubit.parse_readout(readout_string)"
   ]
  },
  {
   "cell_type": "markdown",
   "metadata": {},
   "source": [
    "### Using lattice readout"
   ]
  },
  {
   "cell_type": "markdown",
   "metadata": {},
   "source": [
    "We can also readout the lattice (i.e. measure each data qubit) along a specified axis to get BOTH a final syndrome measurement and a logical readout. \n",
    "\n",
    "Suppose we are trying to make a logical Z readout. In this case, we will measure each data qubit along the Z axis. This will allow us to extract a logical Z readout and a final set of Z syndrome measurements. \n",
    "\n",
    "However, we will not be able to extract a final set of X syndrome measurements. This is ok. When measuring logical Z readout, we only care about X flips on any data qubits, which are fully detected by the Z syndrome graph."
   ]
  },
  {
   "cell_type": "code",
   "execution_count": null,
   "metadata": {},
   "outputs": [],
   "source": [
    "qubit = XXZZQubit({'d':5})\n",
    "qubit.stabilize()\n",
    "qubit.circ.x(0)\n",
    "qubit.circ.z(0)\n",
    "qubit.stabilize()\n",
    "qubit.circ.x(0)\n",
    "qubit.circ.z(0) #this will not be detected, but that's ok!\n",
    "qubit.lattice_readout_z()"
   ]
  },
  {
   "cell_type": "code",
   "execution_count": null,
   "metadata": {},
   "outputs": [],
   "source": [
    "logical_readout = 0\n",
    "while logical_readout != 1:\n",
    "    results = execute(qubit.circ, Aer.get_backend('qasm_simulator'), shots=1).result().get_counts()\n",
    "    readout_string = list(results.keys())[0]\n",
    "    print(\"Readout String: \", readout_string)\n",
    "    logical_readout, syndromes = qubit.parse_readout(readout_string, \"Z\")\n",
    "    print(\"Logical Readout: \", logical_readout)\n",
    "    print(\"Syndromes: \\n\", syndromes)"
   ]
  },
  {
   "cell_type": "markdown",
   "metadata": {},
   "source": [
    "First, notice that the first chunk of the readout string represents the result of a readout of all 25 data qu\n",
    "As shown above, the 'Z' syndrome graph detects errors from both rounds, while the 'X' syndrome graph detects errors from just the first round as it does not pick up on the second Z data flip. Again, this is ok, since we are performing a logical Z readout!\n",
    "\n",
    "Notice that the logical Z readout is affected by the x flip on the 0th data qubit. Fear not! This will be corrected by MWPM decoding. "
   ]
  }
 ],
 "metadata": {
  "kernelspec": {
   "display_name": "Python 3",
   "language": "python",
   "name": "python3"
  },
  "language_info": {
   "codemirror_mode": {
    "name": "ipython",
    "version": 3
   },
   "file_extension": ".py",
   "mimetype": "text/x-python",
   "name": "python",
   "nbconvert_exporter": "python",
   "pygments_lexer": "ipython3",
   "version": "3.9.1"
  }
 },
 "nbformat": 4,
 "nbformat_minor": 4
}
