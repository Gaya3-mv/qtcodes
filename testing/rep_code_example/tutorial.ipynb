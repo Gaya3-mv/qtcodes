{
 "cells": [
  {
   "cell_type": "code",
   "execution_count": 4,
   "id": "eligible-fairy",
   "metadata": {},
   "outputs": [
    {
     "name": "stdout",
     "output_type": "stream",
     "text": [
      "The autoreload extension is already loaded. To reload it, use:\n",
      "  %reload_ext autoreload\n"
     ]
    }
   ],
   "source": [
    "%load_ext autoreload\n",
    "%autoreload 2\n",
    "\n",
    "from rep_circ import RepetitionCode"
   ]
  },
  {
   "cell_type": "code",
   "execution_count": 21,
   "id": "electoral-ribbon",
   "metadata": {},
   "outputs": [],
   "source": [
    "code = RepetitionCode(3)"
   ]
  },
  {
   "cell_type": "code",
   "execution_count": 22,
   "id": "executed-domestic",
   "metadata": {},
   "outputs": [],
   "source": [
    "code.stabilize()"
   ]
  },
  {
   "cell_type": "code",
   "execution_count": 23,
   "id": "burning-accounting",
   "metadata": {},
   "outputs": [
    {
     "name": "stdout",
     "output_type": "stream",
     "text": [
      "     ┌───┐┌───┐           ░ ┌─┐   \n",
      "q_0: ┤ X ├┤ X ├───────────░─┤M├───\n",
      "     └─┬─┘└─┬─┘┌───┐┌───┐ ░ └╥┘┌─┐\n",
      "q_1: ──┼────┼──┤ X ├┤ X ├─░──╫─┤M├\n",
      "       │    │  └─┬─┘└─┬─┘ ░  ║ └╥┘\n",
      "q_2: ──■────┼────┼────┼───░──╫──╫─\n",
      "            │    │    │   ░  ║  ║ \n",
      "q_3: ───────■────■────┼───░──╫──╫─\n",
      "                      │   ░  ║  ║ \n",
      "q_4: ─────────────────■───░──╫──╫─\n",
      "                          ░  ║  ║ \n",
      "c: 5/════════════════════════╩══╩═\n",
      "                             0  1 \n"
     ]
    }
   ],
   "source": [
    "print(code.circ)"
   ]
  },
  {
   "cell_type": "code",
   "execution_count": null,
   "id": "cutting-maryland",
   "metadata": {},
   "outputs": [],
   "source": []
  }
 ],
 "metadata": {
  "kernelspec": {
   "display_name": "Python 3",
   "language": "python",
   "name": "python3"
  },
  "language_info": {
   "codemirror_mode": {
    "name": "ipython",
    "version": 3
   },
   "file_extension": ".py",
   "mimetype": "text/x-python",
   "name": "python",
   "nbconvert_exporter": "python",
   "pygments_lexer": "ipython3",
   "version": "3.9.1"
  }
 },
 "nbformat": 4,
 "nbformat_minor": 5
}
