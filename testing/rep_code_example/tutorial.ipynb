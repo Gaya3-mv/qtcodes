{
 "cells": [
  {
   "cell_type": "code",
   "execution_count": 4,
   "id": "norman-singer",
   "metadata": {},
   "outputs": [
    {
     "name": "stdout",
     "output_type": "stream",
     "text": [
      "The autoreload extension is already loaded. To reload it, use:\n",
      "  %reload_ext autoreload\n"
     ]
    }
   ],
   "source": [
    "%load_ext autoreload\n",
    "%autoreload 2\n",
    "\n",
    "from rep_circ import RepetitionCode"
   ]
  },
  {
   "cell_type": "code",
   "execution_count": 18,
   "id": "refined-newman",
   "metadata": {},
   "outputs": [],
   "source": [
    "code = RepetitionCode(3)"
   ]
  },
  {
   "cell_type": "code",
   "execution_count": 19,
   "id": "wrapped-cycle",
   "metadata": {},
   "outputs": [],
   "source": [
    "code.stabilize()"
   ]
  },
  {
   "cell_type": "code",
   "execution_count": 20,
   "id": "minus-netscape",
   "metadata": {},
   "outputs": [
    {
     "name": "stdout",
     "output_type": "stream",
     "text": [
      "     ┌───┐┌───┐           ░ ┌─┐      \n",
      "q_0: ┤ X ├┤ X ├───────────░─┤M├──────\n",
      "     └─┬─┘└─┬─┘┌───┐┌───┐ ░ └╥┘┌─┐   \n",
      "q_1: ──┼────┼──┤ X ├┤ X ├─░──╫─┤M├───\n",
      "       │    │  └─┬─┘└─┬─┘ ░  ║ └╥┘┌─┐\n",
      "q_2: ──■────┼────┼────┼───░──╫──╫─┤M├\n",
      "            │    │    │   ░  ║  ║ └╥┘\n",
      "q_3: ───────■────■────┼───░──╫──╫──╫─\n",
      "                      │   ░  ║  ║  ║ \n",
      "q_4: ─────────────────■───░──╫──╫──╫─\n",
      "                          ░  ║  ║  ║ \n",
      "c: 5/════════════════════════╩══╩══╩═\n",
      "                             0  1  2 \n"
     ]
    }
   ],
   "source": [
    "print(code.circ)"
   ]
  },
  {
   "cell_type": "code",
   "execution_count": null,
   "id": "future-prophet",
   "metadata": {},
   "outputs": [],
   "source": []
  }
 ],
 "metadata": {
  "kernelspec": {
   "display_name": "Python 3",
   "language": "python",
   "name": "python3"
  },
  "language_info": {
   "codemirror_mode": {
    "name": "ipython",
    "version": 3
   },
   "file_extension": ".py",
   "mimetype": "text/x-python",
   "name": "python",
   "nbconvert_exporter": "python",
   "pygments_lexer": "ipython3",
   "version": "3.9.1"
  }
 },
 "nbformat": 4,
 "nbformat_minor": 5
}
